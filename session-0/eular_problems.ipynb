{
 "cells": [
  {
   "cell_type": "code",
   "execution_count": 30,
   "id": "b1ac1d51",
   "metadata": {},
   "outputs": [
    {
     "name": "stdout",
     "output_type": "stream",
     "text": [
      "233168\n"
     ]
    }
   ],
   "source": [
    "# Project Euler Problem 1: Multiples of 3 and 5\n",
    "# Find the sum of all the multiples of 3 or 5 below 1000.\n",
    "total=0\n",
    "for i in range(1000):\n",
    "    if i%3==0 or i%5==0:\n",
    "        total+=i\n",
    "print(total)        \n"
   ]
  },
  {
   "cell_type": "code",
   "execution_count": 29,
   "id": "de6b4056",
   "metadata": {},
   "outputs": [
    {
     "name": "stdout",
     "output_type": "stream",
     "text": [
      "4613732\n"
     ]
    }
   ],
   "source": [
    "# Project Euler Problem 2: Even Fibonacci numbers\n",
    "num=1\n",
    "i=0\n",
    "fib_seq=[num]\n",
    "total=0\n",
    "while(num<4000000):\n",
    "    \n",
    "    if num==1:\n",
    "        num+=1\n",
    "        fib_seq.append(num)\n",
    "    else:\n",
    "        num=fib_seq[i]+fib_seq[i+1]\n",
    "        fib_seq.append(num)\n",
    "        i+=1\n",
    "for char in fib_seq:\n",
    "    if char%2==0:\n",
    "        total+=char\n",
    "        \n",
    "print(total)                    \n",
    "\n"
   ]
  },
  {
   "cell_type": "code",
   "execution_count": null,
   "id": "c52082c9",
   "metadata": {},
   "outputs": [],
   "source": [
    "def prime_checker(k):\n",
    "    for i in range(2,int(k**0.5)+1):\n",
    "        if k%i==0:\n",
    "            return False\n",
    "    return True\n",
    "\n",
    "num=600851475143\n",
    "fac =[]\n",
    "prime_fac=[]\n",
    "for j in range(2,num):\n",
    "    if num%j==0 and prime_checker(j):\n",
    "         prime_fac.append(j) \n",
    "\n",
    "print(prime_fac)         "
   ]
  },
  {
   "cell_type": "code",
   "execution_count": null,
   "id": "cf38f083",
   "metadata": {},
   "outputs": [],
   "source": [
    "for i in range(998001, 10000, -1):\n",
    "    val = str(i)\n",
    "    if val == val[::-1]:\n",
    "        for j in range(999, 99, -1):\n",
    "            if i % j == 0 and 100 <= i // j <= 999:\n",
    "                num = i // j\n",
    "                print(f\"{i} = {j} * {num}\")\n",
    "            exit()\n",
    "        break\n",
    "\n",
    "                \n",
    "\n",
    "\n",
    "\n"
   ]
  },
  {
   "cell_type": "code",
   "execution_count": 1,
   "id": "d5ca4ca7",
   "metadata": {},
   "outputs": [
    {
     "name": "stdout",
     "output_type": "stream",
     "text": [
      "232792560\n"
     ]
    }
   ],
   "source": [
    "i=2520\n",
    "while True:\n",
    "    if all(i%j==0 for j in range(1,21)):\n",
    "        print(i)\n",
    "        break\n",
    "    i+=2520\n"
   ]
  },
  {
   "cell_type": "code",
   "execution_count": 3,
   "id": "d45118a4",
   "metadata": {},
   "outputs": [
    {
     "name": "stdout",
     "output_type": "stream",
     "text": [
      "25164150\n"
     ]
    }
   ],
   "source": [
    "sum1=0\n",
    "sub_sum2=0\n",
    "for i in range(1,101):\n",
    "    sum1+=i**2\n",
    "    sub_sum2+=i\n",
    "sum2=sub_sum2**2\n",
    "answer = sum2-sum1\n",
    "print(answer)    "
   ]
  },
  {
   "cell_type": "code",
   "execution_count": 8,
   "id": "002d6671",
   "metadata": {},
   "outputs": [
    {
     "name": "stdout",
     "output_type": "stream",
     "text": [
      "104743\n"
     ]
    }
   ],
   "source": [
    "def prime_checker(k):\n",
    "    for i in range(2,int(k**0.5)+1):\n",
    "        if k%i==0:\n",
    "            return False\n",
    "    return True\n",
    "prime =[2]\n",
    "i=3\n",
    "while True:\n",
    "    if prime_checker(i):\n",
    "        prime.append(i)\n",
    "        i+=2\n",
    "    else:\n",
    "        i+=2    \n",
    "\n",
    "    if len(prime)==10001:\n",
    "        print(prime[-1])\n",
    "        break    "
   ]
  }
 ],
 "metadata": {
  "kernelspec": {
   "display_name": "Python 3",
   "language": "python",
   "name": "python3"
  },
  "language_info": {
   "codemirror_mode": {
    "name": "ipython",
    "version": 3
   },
   "file_extension": ".py",
   "mimetype": "text/x-python",
   "name": "python",
   "nbconvert_exporter": "python",
   "pygments_lexer": "ipython3",
   "version": "3.13.7"
  }
 },
 "nbformat": 4,
 "nbformat_minor": 5
}
