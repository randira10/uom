{
 "cells": [
  {
   "cell_type": "code",
   "execution_count": 4,
   "id": "b1ac1d51",
   "metadata": {},
   "outputs": [
    {
     "name": "stdout",
     "output_type": "stream",
     "text": [
      "233168\n"
     ]
    }
   ],
   "source": [
    "# Project Euler Problem 1: Multiples of 3 and 5\n",
    "# Find the sum of all the multiples of 3 or 5 below 1000.\n",
    "total=0\n",
    "for i in range(1000):\n",
    "    if i%3==0 or i%5==0:\n",
    "        total+=i\n",
    "print(total)        \n"
   ]
  },
  {
   "cell_type": "code",
   "execution_count": null,
   "id": "de6b4056",
   "metadata": {},
   "outputs": [
    {
     "name": "stdout",
     "output_type": "stream",
     "text": [
      "32529292\n"
     ]
    }
   ],
   "source": [
    "# Project Euler Problem 2: Even Fibonacci numbers\n",
    "num=1\n",
    "i=0\n",
    "fib_seq=[num]\n",
    "while(num<4000000):\n",
    "    \n",
    "    if num==1:\n",
    "        num+=1\n",
    "        fib_seq.append(num)\n",
    "    else:\n",
    "        num=fib_seq[i]+fib_seq[i+1]\n",
    "        fib_seq.append(num)\n",
    "        i+=1\n",
    "for char in fib_seq:\n",
    "    if char%2==0:\n",
    "        total+=char\n",
    "i=0        \n",
    "print(total)                    \n",
    "\n"
   ]
  },
  {
   "cell_type": "code",
   "execution_count": null,
   "id": "c52082c9",
   "metadata": {},
   "outputs": [],
   "source": []
  }
 ],
 "metadata": {
  "kernelspec": {
   "display_name": "Python 3",
   "language": "python",
   "name": "python3"
  },
  "language_info": {
   "codemirror_mode": {
    "name": "ipython",
    "version": 3
   },
   "file_extension": ".py",
   "mimetype": "text/x-python",
   "name": "python",
   "nbconvert_exporter": "python",
   "pygments_lexer": "ipython3",
   "version": "3.13.7"
  }
 },
 "nbformat": 4,
 "nbformat_minor": 5
}
