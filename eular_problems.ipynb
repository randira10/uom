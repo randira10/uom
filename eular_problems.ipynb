{
 "cells": [
  {
   "cell_type": "code",
   "execution_count": 4,
   "id": "b1ac1d51",
   "metadata": {},
   "outputs": [
    {
     "name": "stdout",
     "output_type": "stream",
     "text": [
      "233168\n"
     ]
    }
   ],
   "source": [
    "# Project Euler Problem 1: Multiples of 3 and 5\n",
    "# Find the sum of all the multiples of 3 or 5 below 1000.\n",
    "total=0\n",
    "for i in range(1000):\n",
    "    if i%3==0 or i%5==0:\n",
    "        total+=i\n",
    "print(total)        \n"
   ]
  },
  {
   "cell_type": "code",
   "execution_count": null,
   "id": "de6b4056",
   "metadata": {},
   "outputs": [
    {
     "name": "stdout",
     "output_type": "stream",
     "text": [
      "[1, 2, 3, 5, 8, 13, 21, 34, 55, 89, 144, 233, 377, 610, 987, 1597, 2584, 4181, 6765, 10946, 17711, 28657, 46368, 75025, 121393, 196418, 317811, 514229, 832040, 1346269, 2178309, 3524578, 5702887]\n"
     ]
    }
   ],
   "source": [
    "\n",
    "num=1\n",
    "i=0\n",
    "fib_seq=[num]\n",
    "while(num<4000000):\n",
    "    \n",
    "    if num==1:\n",
    "        num+=1\n",
    "        fib_seq.append(num)\n",
    "    else:\n",
    "        num=fib_seq[i]+fib_seq[i+1]\n",
    "        fib_seq.append(num)\n",
    "        i+=1\n",
    "for char in fib_seq:\n",
    "    if char%2==0:\n",
    "        total+=char\n",
    "print(total)                    \n",
    "\n"
   ]
  }
 ],
 "metadata": {
  "kernelspec": {
   "display_name": "Python 3",
   "language": "python",
   "name": "python3"
  },
  "language_info": {
   "codemirror_mode": {
    "name": "ipython",
    "version": 3
   },
   "file_extension": ".py",
   "mimetype": "text/x-python",
   "name": "python",
   "nbconvert_exporter": "python",
   "pygments_lexer": "ipython3",
   "version": "3.13.7"
  }
 },
 "nbformat": 4,
 "nbformat_minor": 5
}
